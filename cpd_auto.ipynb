{
  "nbformat": 4,
  "nbformat_minor": 0,
  "metadata": {
    "colab": {
      "provenance": [],
      "authorship_tag": "ABX9TyPXVUVkJWAEGwWy0xlb4Rjl",
      "include_colab_link": true
    },
    "kernelspec": {
      "name": "python3",
      "display_name": "Python 3"
    },
    "language_info": {
      "name": "python"
    }
  },
  "cells": [
    {
      "cell_type": "markdown",
      "metadata": {
        "id": "view-in-github",
        "colab_type": "text"
      },
      "source": [
        "<a href=\"https://colab.research.google.com/github/divyegupta12/videosummcolab/blob/main/cpd_auto.ipynb\" target=\"_parent\"><img src=\"https://colab.research.google.com/assets/colab-badge.svg\" alt=\"Open In Colab\"/></a>"
      ]
    },
    {
      "cell_type": "code",
      "execution_count": null,
      "metadata": {
        "id": "KxB1xKCf64BX"
      },
      "outputs": [],
      "source": [
        "import numpy as np\n",
        "from cpd_nonlin import cpd_nonlin\n",
        "\n",
        "def cpd_auto(K, ncp, vmax, desc_rate=1, **kwargs):\n",
        "    \"\"\"Main interface\n",
        "\n",
        "    Detect change points automatically selecting their number\n",
        "        K       - kernel between each pair of frames in video\n",
        "        ncp     - maximum ncp\n",
        "        vmax    - special parameter\n",
        "    Optional arguments:\n",
        "        lmin     - minimum segment length\n",
        "        lmax     - maximum segment length\n",
        "        desc_rate - rate of descriptor sampling (vmax always corresponds to 1x)\n",
        "\n",
        "    Note:\n",
        "        - cps are always calculated in subsampled coordinates irrespective to\n",
        "            desc_rate\n",
        "        - lmin and m should be in agreement\n",
        "    ---\n",
        "    Returns: (cps, costs)\n",
        "        cps   - best selected change-points\n",
        "        costs - costs for 0,1,2,...,m change-points\n",
        "\n",
        "    Memory requirement: ~ (3*N*N + N*ncp)*4 bytes ~= 16 * N^2 bytes\n",
        "    That is 1,6 Gb for the N=10000.\n",
        "    \"\"\"\n",
        "    m = ncp\n",
        "    (_, scores) = cpd_nonlin(K, m, backtrack=False, **kwargs)\n",
        "\n",
        "    N = K.shape[0]\n",
        "    N2 = N*desc_rate  # length of the video before subsampling\n",
        "\n",
        "    penalties = np.zeros(m+1)\n",
        "    # Prevent division by zero (in case of 0 changes)\n",
        "    ncp = np.arange(1, m+1)\n",
        "    penalties[1:] = (vmax*ncp/(2.0*N2))*(np.log(float(N2)/ncp)+1)\n",
        "\n",
        "    costs = scores/float(N) + penalties\n",
        "    m_best = np.argmin(costs)\n",
        "    (cps, scores2) = cpd_nonlin(K, m_best, **kwargs)\n",
        "\n",
        "    return (cps, scores2)\n",
        "\n",
        "\n",
        "# ------------------------------------------------------------------------------\n",
        "# Extra functions (currently not used)\n",
        "\n",
        "def estimate_vmax(K_stable):\n",
        "    \"\"\"K_stable - kernel between all frames of a stable segment\"\"\"\n",
        "    n = K_stable.shape[0]\n",
        "    vmax = np.trace(centering(K_stable)/n)\n",
        "    return vmax\n",
        "\n",
        "\n",
        "def centering(K):\n",
        "    \"\"\"Apply kernel centering\"\"\"\n",
        "    mean_rows = np.mean(K, 1)[:, np.newaxis]\n",
        "    return K - mean_rows - mean_rows.T + np.mean(mean_rows)\n",
        "\n",
        "\n",
        "def eval_score(K, cps):\n",
        "    \"\"\" Evaluate unnormalized empirical score\n",
        "        (sum of kernelized scatters) for the given change-points \"\"\"\n",
        "    N = K.shape[0]\n",
        "    cps = [0] + list(cps) + [N]\n",
        "    V1 = 0\n",
        "    V2 = 0\n",
        "    for i in range(len(cps)-1):\n",
        "        K_sub = K[cps[i]:cps[i+1], :][:, cps[i]:cps[i+1]]\n",
        "        V1 += np.sum(np.diag(K_sub))\n",
        "        V2 += np.sum(K_sub) / float(cps[i+1] - cps[i])\n",
        "    return (V1 - V2)\n",
        "\n",
        "\n",
        "def eval_cost(K, cps, score, vmax):\n",
        "    \"\"\" Evaluate cost function for automatic number of change points selection\n",
        "    K      - kernel between all frames\n",
        "    cps    - selected change-points\n",
        "    score  - unnormalized empirical score (sum of kernelized scatters)\n",
        "    vmax   - vmax parameter\"\"\"\n",
        "\n",
        "    N = K.shape[0]\n",
        "    penalty = (vmax*len(cps)/(2.0*N))*(np.log(float(N)/len(cps))+1)\n",
        "    return score/float(N) + penalty"
      ]
    }
  ]
}